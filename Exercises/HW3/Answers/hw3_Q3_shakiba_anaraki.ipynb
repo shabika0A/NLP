{
  "nbformat": 4,
  "nbformat_minor": 0,
  "metadata": {
    "colab": {
      "provenance": []
    },
    "kernelspec": {
      "name": "python3",
      "display_name": "Python 3"
    },
    "language_info": {
      "name": "python"
    }
  },
  "cells": [
    {
      "cell_type": "markdown",
      "source": [
        "# Q3"
      ],
      "metadata": {
        "id": "NgQDc4v3TfsF"
      }
    },
    {
      "cell_type": "markdown",
      "source": [
        "*   We will develop a NER system specific to the category of names of the top 1000 movie titles from IMDB.\n",
        "\n",
        "*   We will evaluate the system on a collection of text likely to contain instances of these named entities."
      ],
      "metadata": {
        "id": "r3BJFGcYT-LV"
      }
    },
    {
      "cell_type": "code",
      "source": [
        "import nltk\n",
        "nltk.download('punkt')"
      ],
      "metadata": {
        "id": "GnwTjXyH5Xls",
        "colab": {
          "base_uri": "https://localhost:8080/"
        },
        "outputId": "26f8fb1f-7b01-4612-8ff9-315ab8ba2cd4"
      },
      "execution_count": null,
      "outputs": [
        {
          "output_type": "stream",
          "name": "stderr",
          "text": [
            "[nltk_data] Downloading package punkt to /root/nltk_data...\n",
            "[nltk_data]   Unzipping tokenizers/punkt.zip.\n"
          ]
        },
        {
          "output_type": "execute_result",
          "data": {
            "text/plain": [
              "True"
            ]
          },
          "metadata": {},
          "execution_count": 2
        }
      ]
    },
    {
      "cell_type": "code",
      "source": [
        "import re\n",
        "import csv\n",
        "import math\n",
        "import nltk\n",
        "nltk.download('brown')\n",
        "nltk.download('movie_reviews')\n",
        "from nltk.corpus import brown, movie_reviews\n",
        "from nltk.tokenize import word_tokenize"
      ],
      "metadata": {
        "id": "o3DlFdNPT95l",
        "colab": {
          "base_uri": "https://localhost:8080/"
        },
        "outputId": "5d1616bb-ad30-4480-eed5-cc843ad2d2d8"
      },
      "execution_count": null,
      "outputs": [
        {
          "output_type": "stream",
          "name": "stderr",
          "text": [
            "[nltk_data] Downloading package brown to /root/nltk_data...\n",
            "[nltk_data]   Unzipping corpora/brown.zip.\n",
            "[nltk_data] Downloading package movie_reviews to /root/nltk_data...\n",
            "[nltk_data]   Unzipping corpora/movie_reviews.zip.\n"
          ]
        }
      ]
    },
    {
      "cell_type": "code",
      "source": [
        "def get_top_1000_list():\n",
        "    \"\"\"\n",
        "    Function to extract movie titles from a IMDB-top-1000.csv file.\n",
        "\n",
        "    Returns:\n",
        "        list: A list of unique titles of the top 1000 movies\n",
        "    \"\"\"\n",
        "    collected_titles = []\n",
        "\n",
        "    with open('IMDB-top-1000.csv', 'r', encoding='utf-8') as file:\n",
        "        reader = csv.reader(file)\n",
        "        next(reader)  # Skip the header row\n",
        "        for row in reader:\n",
        "            title = row[1]\n",
        "            collected_titles.append(title.split())\n",
        "\n",
        "    return collected_titles"
      ],
      "metadata": {
        "id": "5hHLacEwzP3q"
      },
      "execution_count": null,
      "outputs": []
    },
    {
      "cell_type": "code",
      "source": [
        "def label_BIO(_tokens, _NE):\n",
        "    \"\"\"\n",
        "    Generates BIO (Beginning, Inside, Outside) tags for movie titles in the given tokens.\n",
        "\n",
        "    Args:\n",
        "        _tokens (list): List of tokens representing words in a sentence.\n",
        "        _NE (list): List of named entities, where each entity is represented as a list of tokens.\n",
        "\n",
        "    Returns:\n",
        "        list: List of tuples containing tokens and their corresponding BIO tags.\n",
        "\n",
        "    Comments:\n",
        "        - This function searches for movie titles in the tokens and labels them using BIO notation.\n",
        "        - A movie title is considered to be a named entity, where the first word is labeled as 'B-MOV'\n",
        "          (Beginning of a movie title) and subsequent words are labeled as 'I-MOV' (Inside a movie title).\n",
        "        - Non-movie title tokens are labeled as 'O' (Outside any named entity).\n",
        "        - The function iterates through each token in the tokens list, searching for matches in the named entity list.\n",
        "          If a match is found, the corresponding tokens are labeled accordingly in the BIO format.\n",
        "        - It returns a list of tuples, each containing a token and its corresponding BIO tag.\n",
        "    \"\"\"\n",
        "    BIO_for_samples = []\n",
        "\n",
        "    for token in _tokens:\n",
        "        # Initialize the BIO tag for the token as 'O' (Outside any named entity)\n",
        "        bio_tag = 'O'\n",
        "\n",
        "        # Check if the token is part of any named entity (NE)\n",
        "        for ne in _NE:\n",
        "            # If the token matches the first token of a named entity:\n",
        "            if token == ne[0]:\n",
        "                bio_tag = 'B-MOV'\n",
        "                break\n",
        "            # If the token matches any subsequent token of a named entity:\n",
        "            elif token in ne:\n",
        "                bio_tag = 'I-MOV'\n",
        "                break\n",
        "\n",
        "        # Append the token and its BIO tag to the output list\n",
        "        BIO_for_samples.append((token, bio_tag))\n",
        "\n",
        "\n",
        "    return BIO_for_samples"
      ],
      "metadata": {
        "id": "Mem-wyqU1z0f"
      },
      "execution_count": null,
      "outputs": []
    },
    {
      "cell_type": "code",
      "source": [
        "# Don't change this cell\n",
        "def print_BIO_res(_BIO):\n",
        "    for i in range(len(_BIO)):\n",
        "        if _BIO[i][1] == 'B-MOV':\n",
        "            for j in range(i - 7, i + 7):\n",
        "                if _BIO[j][1] == 'O':\n",
        "                    print(_BIO[j][0], end=\" \")\n",
        "                else:\n",
        "                    print(_BIO[j], end=\" \")\n",
        "            print(\"\")"
      ],
      "metadata": {
        "id": "1UA4HbNA5Fj6"
      },
      "execution_count": null,
      "outputs": []
    },
    {
      "cell_type": "code",
      "source": [
        "# Don't change this cell\n",
        "def get_data_from_file(_fn):\n",
        "    with open(_fn, 'r') as file:\n",
        "        data = file.read().replace('\\n', ' ')\n",
        "    return data"
      ],
      "metadata": {
        "id": "vrQqvG947sb4"
      },
      "execution_count": null,
      "outputs": []
    },
    {
      "cell_type": "code",
      "source": [
        "titles_top_1000 = get_top_1000_list()\n",
        "\n",
        "# get text data from a text file\n",
        "data = get_data_from_file(\"article-about-a-genre.txt\")\n",
        "# tokenize text data\n",
        "tokens = word_tokenize(data)\n",
        "# tag with BIO using the IMDB top 1000 movie title list\n",
        "BIO = label_BIO(tokens, titles_top_1000)\n",
        "\n",
        "print_BIO_res(BIO)"
      ],
      "metadata": {
        "id": "CdzyVGJ25IBc",
        "colab": {
          "base_uri": "https://localhost:8080/"
        },
        "outputId": "bca8d089-4364-4c4e-ae90-ead1f2ea849d"
      },
      "execution_count": null,
      "outputs": [
        {
          "output_type": "stream",
          "name": "stdout",
          "text": [
            "('Ten', 'I-MOV') Rings is shaping up ('to', 'I-MOV') overtake ('Black', 'B-MOV') Widow ('as', 'I-MOV') ('the', 'I-MOV') biggest film ('of', 'I-MOV') \n",
            "('the', 'I-MOV') biggest film ('of', 'I-MOV') ('the', 'I-MOV') pandemic . ('A', 'B-MOV') hit ('with', 'I-MOV') critics ('and', 'I-MOV') audience alike \n",
            "history almost ('as', 'I-MOV') long cinema itself . ('This', 'B-MOV') history is ('on', 'I-MOV') exciting display ('in', 'I-MOV') \n",
            "heroes ('with', 'I-MOV') supernatural martial arts abilities . ('Fight', 'B-MOV') scenes ('in', 'I-MOV') these early films emphasised \n",
            "rarely showcased actual martial arts skills . ('This', 'B-MOV') changed ('with', 'I-MOV') ('the', 'I-MOV') transformation ('of', 'I-MOV') Hong \n",
            "Five Deadly Venoms ( 1978 ) ('and', 'I-MOV') ('The', 'B-MOV') 36th Chamber ('of', 'I-MOV') Shaolin ( 1978 \n",
            "style , ('as', 'I-MOV') shown ('in', 'I-MOV') films like ('The', 'B-MOV') ('Big', 'I-MOV') Boss ( 1971 ) ('and', 'I-MOV') \n",
            "('The', 'B-MOV') ('Big', 'I-MOV') Boss ( 1971 ) ('and', 'I-MOV') ('Enter', 'B-MOV') ('the', 'I-MOV') ('Dragon', 'I-MOV') ( 1973 ) , \n",
            "('with', 'I-MOV') poor-quality dubbing ('and', 'I-MOV') bootleg videos . ('After', 'B-MOV') Lee ’ s untimely death ('in', 'I-MOV') \n",
            "('in', 'I-MOV') Drunken Master ( 1978 ) ('and', 'I-MOV') ('The', 'B-MOV') ('Magnificent', 'I-MOV') Butcher ( 1979 ) starring \n",
            "Tai Chi Master ( 1993 ) ('and', 'I-MOV') ('Donnie', 'B-MOV') Yen ’ s ('Iron', 'I-MOV') Monkey ( \n",
            "s ('Iron', 'I-MOV') Monkey ( 1993 ) . ('The', 'B-MOV') second boom ('In', 'B-MOV') ('the', 'I-MOV') late 1990s \n",
            "( 1993 ) . ('The', 'B-MOV') second boom ('In', 'B-MOV') ('the', 'I-MOV') late 1990s , around ('the', 'I-MOV') \n",
            ", ('and', 'I-MOV') Li ’ s Romeo Must ('Die', 'B-MOV') ( 2000 ) ('and', 'I-MOV') ('The', 'B-MOV') ('One', 'B-MOV') \n",
            "Romeo Must ('Die', 'B-MOV') ( 2000 ) ('and', 'I-MOV') ('The', 'B-MOV') ('One', 'B-MOV') ( 2001 ) , English-speaking \n",
            "Must ('Die', 'B-MOV') ( 2000 ) ('and', 'I-MOV') ('The', 'B-MOV') ('One', 'B-MOV') ( 2001 ) , English-speaking fans \n",
            "('to', 'I-MOV') find its way into hits like ('The', 'B-MOV') ('Matrix', 'I-MOV') ( 1999 ) ('and', 'I-MOV') ('Kill', 'I-MOV') \n",
            "('and', 'I-MOV') ('Kill', 'I-MOV') Bill ( 2003 ) . ('In', 'B-MOV') 2000 , ('the', 'I-MOV') Chinese blockbuster ('Crouching', 'B-MOV') \n",
            ". ('In', 'B-MOV') 2000 , ('the', 'I-MOV') Chinese blockbuster ('Crouching', 'B-MOV') Tiger , ('Hidden', 'I-MOV') ('Dragon', 'I-MOV') showed modern \n",
            "('the', 'I-MOV') trend . Jet Li ’ s ('Hero', 'B-MOV') ( 2002 ) ('and', 'I-MOV') Fearless ( \n",
            "('on', 'I-MOV') producing elegant wuxia action dramas . ('In', 'B-MOV') Hong ('Kong', 'I-MOV') , kung fu was \n",
            "comedies Shaolin Soccer ( 2001 ) ('and', 'I-MOV') ('Kung', 'B-MOV') ('Fu', 'I-MOV') ('Hustle', 'I-MOV') ( 2004 ) , \n",
            "('Fu', 'I-MOV') ('Hustle', 'I-MOV') ( 2004 ) , ('and', 'I-MOV') ('Donnie', 'B-MOV') Yen ’ s ('Ip', 'B-MOV') ('Man', 'I-MOV') ( \n",
            ") , ('and', 'I-MOV') ('Donnie', 'B-MOV') Yen ’ s ('Ip', 'B-MOV') ('Man', 'I-MOV') ( 2008 ) . Shang-Chi \n",
            ". Shang-Chi : ('the', 'I-MOV') first Asian superhero ('In', 'B-MOV') many ways , ('the', 'I-MOV') character ('of', 'I-MOV') \n",
            "('the', 'I-MOV') same name , was controversial . ('The', 'B-MOV') star , Finn ('Jones', 'I-MOV') , lacked \n",
            "its “ white saviour ” narrative . ('In', 'B-MOV') light ('of', 'I-MOV') this , ('the', 'I-MOV') producers \n",
            "('to', 'I-MOV') headline ('a', 'I-MOV') Marvel feature film . ('This', 'B-MOV') has paid off : Shang-Chi is \n",
            "('the', 'I-MOV') lead role ('in', 'I-MOV') ('the', 'I-MOV') original 1970s ('Kung', 'B-MOV') ('Fu', 'I-MOV') television series . Shang-Chi is \n"
          ]
        }
      ]
    },
    {
      "cell_type": "markdown",
      "source": [
        "as we see the output is tokenized text from the input data, where each token is accompanied by its corresponding BIO tag. For example, the token \"Black\" is labeled as \"B-MOV\" (Beginning of a movie title), while the subsequent token \"Widow\" is labeled as \"I-MOV\" (Inside a movie title)."
      ],
      "metadata": {
        "id": "Fli4IdCzjqMG"
      }
    },
    {
      "cell_type": "code",
      "source": [
        "print(BIO)"
      ],
      "metadata": {
        "colab": {
          "base_uri": "https://localhost:8080/"
        },
        "id": "e6d85Q9g0T5D",
        "outputId": "4a70f534-0741-46ac-933d-bd1bc3236a6b"
      },
      "execution_count": null,
      "outputs": [
        {
          "output_type": "stream",
          "name": "stdout",
          "text": [
            "[('From', 'I-MOV'), ('Bruce', 'O'), ('Lee', 'O'), ('to', 'I-MOV'), ('Shang-Chi', 'O'), (':', 'O'), ('a', 'I-MOV'), ('short', 'O'), ('history', 'O'), ('of', 'I-MOV'), ('the', 'I-MOV'), ('kung', 'O'), ('fu', 'O'), ('film', 'O'), ('in', 'I-MOV'), ('cinema', 'O'), ('With', 'I-MOV'), ('action', 'O'), ('sequences', 'O'), ('that', 'O'), ('are', 'O'), ('being', 'O'), ('hailed', 'O'), ('as', 'I-MOV'), ('some', 'O'), ('of', 'I-MOV'), ('the', 'I-MOV'), ('best', 'O'), ('in', 'I-MOV'), ('the', 'I-MOV'), ('history', 'O'), ('of', 'I-MOV'), ('the', 'I-MOV'), ('Marvel', 'O'), ('Cinematic', 'O'), ('Universe', 'O'), (',', 'O'), ('Shang-Chi', 'O'), ('and', 'I-MOV'), ('the', 'I-MOV'), ('Legend', 'I-MOV'), ('of', 'I-MOV'), ('the', 'I-MOV'), ('Ten', 'I-MOV'), ('Rings', 'O'), ('is', 'O'), ('shaping', 'O'), ('up', 'O'), ('to', 'I-MOV'), ('overtake', 'O'), ('Black', 'B-MOV'), ('Widow', 'O'), ('as', 'I-MOV'), ('the', 'I-MOV'), ('biggest', 'O'), ('film', 'O'), ('of', 'I-MOV'), ('the', 'I-MOV'), ('pandemic', 'O'), ('.', 'O'), ('A', 'B-MOV'), ('hit', 'O'), ('with', 'I-MOV'), ('critics', 'O'), ('and', 'I-MOV'), ('audience', 'O'), ('alike', 'O'), (',', 'O'), ('many', 'O'), ('commentators', 'O'), ('are', 'O'), ('praising', 'O'), ('Shang-Chi', 'O'), ('’', 'O'), ('s', 'O'), ('cast', 'O'), ('and', 'I-MOV'), (',', 'O'), ('in', 'I-MOV'), ('particular', 'O'), (',', 'O'), ('the', 'I-MOV'), ('performance', 'O'), ('by', 'I-MOV'), ('Hong', 'O'), ('Kong', 'I-MOV'), ('screen', 'O'), ('legend', 'O'), ('Tony', 'O'), ('Leung', 'O'), ('Chiu-wai', 'O'), (',', 'O'), ('for', 'I-MOV'), ('helping', 'O'), ('breathe', 'O'), ('new', 'O'), ('life', 'O'), ('into', 'O'), ('a', 'I-MOV'), ('familiar', 'O'), ('Marvel', 'O'), ('formula', 'O'), ('.', 'O'), ('Given', 'O'), ('the', 'I-MOV'), ('huge', 'O'), ('challenge', 'O'), ('of', 'I-MOV'), ('presenting', 'O'), ('a', 'I-MOV'), ('film', 'O'), ('of', 'I-MOV'), ('this', 'O'), ('scale', 'O'), ('with', 'I-MOV'), ('a', 'I-MOV'), ('kung', 'O'), ('fu', 'O'), ('master', 'O'), ('as', 'I-MOV'), ('its', 'O'), ('central', 'O'), ('character', 'O'), (',', 'O'), ('it', 'O'), ('was', 'O'), ('imperative', 'O'), ('the', 'I-MOV'), ('filmmakers', 'O'), ('delivered', 'O'), ('authentic', 'O'), ('fight', 'O'), ('scenes', 'O'), ('that', 'O'), ('could', 'O'), ('stand', 'O'), ('alongside', 'O'), ('the', 'I-MOV'), ('classics', 'O'), ('and', 'I-MOV'), ('showcase', 'O'), ('the', 'I-MOV'), ('best', 'O'), ('action', 'O'), ('the', 'I-MOV'), ('genre', 'O'), ('has', 'O'), ('to', 'I-MOV'), ('offer', 'O'), ('.', 'O'), ('Tracing', 'O'), ('through', 'O'), ('China', 'O'), (',', 'O'), ('Hong', 'O'), ('Kong', 'I-MOV'), ('and', 'I-MOV'), ('Hollywood', 'I-MOV'), (',', 'O'), ('martial', 'O'), ('arts', 'O'), ('films', 'O'), ('have', 'O'), ('a', 'I-MOV'), ('history', 'O'), ('almost', 'O'), ('as', 'I-MOV'), ('long', 'O'), ('cinema', 'O'), ('itself', 'O'), ('.', 'O'), ('This', 'B-MOV'), ('history', 'O'), ('is', 'O'), ('on', 'I-MOV'), ('exciting', 'O'), ('display', 'O'), ('in', 'I-MOV'), ('Shang-Chi', 'O'), (',', 'O'), ('and', 'I-MOV'), ('will', 'O'), ('cement', 'O'), ('the', 'I-MOV'), ('film', 'O'), ('’', 'O'), ('s', 'O'), ('position', 'O'), ('in', 'I-MOV'), ('kung', 'O'), ('fu', 'O'), ('cinematic', 'O'), ('history', 'O'), ('.', 'O'), ('Birth', 'O'), ('of', 'I-MOV'), ('the', 'I-MOV'), ('kung', 'O'), ('fu', 'O'), ('genre', 'O'), ('and', 'I-MOV'), ('the', 'I-MOV'), ('first', 'O'), ('boom', 'O'), ('Beginning', 'I-MOV'), ('with', 'I-MOV'), ('Shanghai', 'O'), ('productions', 'O'), ('in', 'I-MOV'), ('the', 'I-MOV'), ('1920s', 'O'), (',', 'O'), ('early', 'O'), ('martial', 'O'), ('arts', 'O'), ('films', 'O'), ('drew', 'O'), ('influence', 'O'), ('from', 'I-MOV'), ('Chinese', 'O'), ('opera', 'O'), ('and', 'I-MOV'), ('wuxia', 'O'), ('novels', 'O'), (':', 'O'), ('narratives', 'O'), ('set', 'O'), ('in', 'I-MOV'), ('Ancient', 'O'), ('China', 'O'), ('focusing', 'O'), ('on', 'I-MOV'), ('heroes', 'O'), ('with', 'I-MOV'), ('supernatural', 'O'), ('martial', 'O'), ('arts', 'O'), ('abilities', 'O'), ('.', 'O'), ('Fight', 'B-MOV'), ('scenes', 'O'), ('in', 'I-MOV'), ('these', 'O'), ('early', 'O'), ('films', 'O'), ('emphasised', 'O'), ('flowing', 'O'), ('dramatised', 'O'), ('movements', 'O'), (',', 'O'), ('but', 'O'), ('rarely', 'O'), ('showcased', 'O'), ('actual', 'O'), ('martial', 'O'), ('arts', 'O'), ('skills', 'O'), ('.', 'O'), ('This', 'B-MOV'), ('changed', 'O'), ('with', 'I-MOV'), ('the', 'I-MOV'), ('transformation', 'O'), ('of', 'I-MOV'), ('Hong', 'O'), ('Kong', 'I-MOV'), ('cinema', 'O'), ('in', 'I-MOV'), ('the', 'I-MOV'), ('1970s', 'O'), ('.', 'O'), ('Resisting', 'O'), ('the', 'I-MOV'), ('fantastical', 'O'), ('elements', 'O'), ('of', 'I-MOV'), ('the', 'I-MOV'), ('wuxia', 'O'), ('style', 'O'), (',', 'O'), ('local', 'O'), ('studios', 'O'), ('Shaw', 'O'), ('Brothers', 'I-MOV'), ('and', 'I-MOV'), ('Golden', 'O'), ('Harvest', 'O'), ('put', 'O'), ('actual', 'O'), ('martial', 'O'), ('artists', 'O'), ('into', 'O'), ('their', 'O'), ('films', 'O'), ('.', 'O'), ('With', 'I-MOV'), ('this', 'O'), ('move', 'O'), (',', 'O'), ('the', 'I-MOV'), ('kung', 'O'), ('fu', 'O'), ('genre', 'O'), ('was', 'O'), ('born', 'O'), ('.', 'O'), ('Popular', 'O'), ('titles', 'O'), ('of', 'I-MOV'), ('the', 'I-MOV'), ('time', 'O'), ('like', 'O'), ('Five', 'O'), ('Deadly', 'O'), ('Venoms', 'O'), ('(', 'O'), ('1978', 'O'), (')', 'O'), ('and', 'I-MOV'), ('The', 'B-MOV'), ('36th', 'O'), ('Chamber', 'O'), ('of', 'I-MOV'), ('Shaolin', 'O'), ('(', 'O'), ('1978', 'O'), (')', 'O'), ('are', 'O'), ('classics', 'O'), (',', 'O'), ('and', 'I-MOV'), ('the', 'I-MOV'), ('films', 'O'), ('of', 'I-MOV'), ('Bruce', 'O'), ('Lee', 'O'), ('brought', 'O'), ('kung', 'O'), ('fu', 'O'), ('to', 'I-MOV'), ('the', 'I-MOV'), ('world', 'O'), ('’', 'O'), ('s', 'O'), ('attention', 'O'), ('.', 'O'), ('Lee', 'O'), ('’', 'O'), ('s', 'O'), ('intense', 'O'), ('and', 'I-MOV'), ('realistic', 'O'), ('fighting', 'O'), ('style', 'O'), (',', 'O'), ('as', 'I-MOV'), ('shown', 'O'), ('in', 'I-MOV'), ('films', 'O'), ('like', 'O'), ('The', 'B-MOV'), ('Big', 'I-MOV'), ('Boss', 'O'), ('(', 'O'), ('1971', 'O'), (')', 'O'), ('and', 'I-MOV'), ('Enter', 'B-MOV'), ('the', 'I-MOV'), ('Dragon', 'I-MOV'), ('(', 'O'), ('1973', 'O'), (')', 'O'), (',', 'O'), ('sparked', 'O'), ('an', 'O'), ('international', 'O'), ('obsession', 'O'), ('with', 'I-MOV'), ('the', 'I-MOV'), ('art', 'O'), ('of', 'I-MOV'), ('kung', 'O'), ('fu', 'O'), ('—', 'O'), ('even', 'O'), ('as', 'I-MOV'), ('international', 'O'), ('fans', 'O'), ('often', 'O'), ('had', 'O'), ('to', 'I-MOV'), ('deal', 'O'), ('with', 'I-MOV'), ('poor-quality', 'O'), ('dubbing', 'O'), ('and', 'I-MOV'), ('bootleg', 'O'), ('videos', 'O'), ('.', 'O'), ('After', 'B-MOV'), ('Lee', 'O'), ('’', 'O'), ('s', 'O'), ('untimely', 'O'), ('death', 'O'), ('in', 'I-MOV'), ('1973', 'O'), (',', 'O'), ('the', 'I-MOV'), ('genre', 'O'), ('morphed', 'O'), ('from', 'I-MOV'), ('showcasing', 'O'), ('ferocious', 'O'), ('physicality', 'O'), ('into', 'O'), ('a', 'I-MOV'), ('more', 'O'), ('acrobatic', 'O'), (',', 'O'), ('comedy-infused', 'O'), ('approach', 'O'), (',', 'O'), ('such', 'O'), ('as', 'I-MOV'), ('in', 'I-MOV'), ('Drunken', 'O'), ('Master', 'O'), ('(', 'O'), ('1978', 'O'), (')', 'O'), ('and', 'I-MOV'), ('The', 'B-MOV'), ('Magnificent', 'I-MOV'), ('Butcher', 'O'), ('(', 'O'), ('1979', 'O'), (')', 'O'), ('starring', 'O'), (',', 'O'), ('respectively', 'O'), (',', 'O'), ('Jackie', 'O'), ('Chan', 'O'), ('and', 'I-MOV'), ('his', 'O'), ('China', 'O'), ('Drama', 'O'), ('Academy', 'O'), ('“', 'O'), ('brother', 'O'), ('”', 'O'), (',', 'O'), ('Sammo', 'O'), ('Hung', 'O'), ('.', 'O'), ('Hong', 'O'), ('Kong', 'I-MOV'), ('cinema', 'O'), ('entered', 'O'), ('its', 'O'), ('Golden', 'O'), ('Age', 'O'), ('in', 'I-MOV'), ('the', 'I-MOV'), ('1980', 'O'), ('and', 'I-MOV'), ('‘', 'O'), ('90s', 'O'), ('.', 'O'), ('At', 'O'), ('this', 'O'), ('time', 'O'), (',', 'O'), ('contemporary', 'O'), ('kung', 'O'), ('fu', 'O'), ('classics', 'O'), ('like', 'O'), ('Chan', 'O'), ('’', 'O'), ('s', 'O'), ('Police', 'I-MOV'), ('Story', 'I-MOV'), ('(', 'O'), ('1985', 'O'), (')', 'O'), ('complimented', 'O'), ('popular', 'O'), ('historical', 'O'), ('films', 'O'), ('such', 'O'), ('as', 'I-MOV'), ('Jet', 'O'), ('Li', 'O'), ('’', 'O'), ('s', 'O'), ('Tai', 'O'), ('Chi', 'O'), ('Master', 'O'), ('(', 'O'), ('1993', 'O'), (')', 'O'), ('and', 'I-MOV'), ('Donnie', 'B-MOV'), ('Yen', 'O'), ('’', 'O'), ('s', 'O'), ('Iron', 'I-MOV'), ('Monkey', 'O'), ('(', 'O'), ('1993', 'O'), (')', 'O'), ('.', 'O'), ('The', 'B-MOV'), ('second', 'O'), ('boom', 'O'), ('In', 'B-MOV'), ('the', 'I-MOV'), ('late', 'O'), ('1990s', 'O'), (',', 'O'), ('around', 'O'), ('the', 'I-MOV'), ('time', 'O'), ('of', 'I-MOV'), ('Hong', 'O'), ('Kong', 'I-MOV'), ('’', 'O'), ('s', 'O'), ('handover', 'O'), ('to', 'I-MOV'), ('China', 'O'), (',', 'O'), ('many', 'O'), ('of', 'I-MOV'), ('the', 'I-MOV'), ('industry', 'O'), ('’', 'O'), ('s', 'O'), ('leading', 'O'), ('figures', 'O'), ('made', 'O'), ('the', 'I-MOV'), ('move', 'O'), ('to', 'I-MOV'), ('Hollywood', 'I-MOV'), ('.', 'O'), ('With', 'I-MOV'), ('films', 'O'), ('like', 'O'), ('Chan', 'O'), ('’', 'O'), ('s', 'O'), ('Rush', 'I-MOV'), ('Hour', 'I-MOV'), ('(', 'O'), ('1998', 'O'), (')', 'O'), ('and', 'I-MOV'), ('Shanghai', 'O'), ('Noon', 'I-MOV'), ('(', 'O'), ('2000', 'O'), (')', 'O'), (',', 'O'), ('and', 'I-MOV'), ('Li', 'O'), ('’', 'O'), ('s', 'O'), ('Romeo', 'O'), ('Must', 'O'), ('Die', 'B-MOV'), ('(', 'O'), ('2000', 'O'), (')', 'O'), ('and', 'I-MOV'), ('The', 'B-MOV'), ('One', 'B-MOV'), ('(', 'O'), ('2001', 'O'), (')', 'O'), (',', 'O'), ('English-speaking', 'O'), ('fans', 'O'), ('could', 'O'), ('finally', 'O'), ('see', 'O'), ('kung', 'O'), ('fu', 'O'), ('films', 'O'), ('on', 'I-MOV'), ('a', 'I-MOV'), ('big', 'O'), ('screen', 'O'), ('without', 'O'), ('the', 'I-MOV'), ('need', 'O'), ('for', 'I-MOV'), ('subtitles', 'O'), ('.', 'O'), ('Celebrated', 'O'), ('martial', 'O'), ('arts', 'O'), ('choreographer', 'O'), ('Yuen', 'O'), ('Woo-ping', 'O'), ('also', 'O'), ('lent', 'O'), ('his', 'O'), ('talents', 'O'), ('to', 'I-MOV'), ('international', 'O'), ('productions', 'O'), (',', 'O'), ('allowing', 'O'), ('kung', 'O'), ('fu', 'O'), ('to', 'I-MOV'), ('find', 'O'), ('its', 'O'), ('way', 'O'), ('into', 'O'), ('hits', 'O'), ('like', 'O'), ('The', 'B-MOV'), ('Matrix', 'I-MOV'), ('(', 'O'), ('1999', 'O'), (')', 'O'), ('and', 'I-MOV'), ('Kill', 'I-MOV'), ('Bill', 'O'), ('(', 'O'), ('2003', 'O'), (')', 'O'), ('.', 'O'), ('In', 'B-MOV'), ('2000', 'O'), (',', 'O'), ('the', 'I-MOV'), ('Chinese', 'O'), ('blockbuster', 'O'), ('Crouching', 'B-MOV'), ('Tiger', 'O'), (',', 'O'), ('Hidden', 'I-MOV'), ('Dragon', 'I-MOV'), ('showed', 'O'), ('modern', 'O'), ('international', 'O'), ('audiences', 'O'), ('now', 'O'), ('had', 'O'), ('an', 'O'), ('appetite', 'O'), ('for', 'I-MOV'), ('the', 'I-MOV'), ('elaborate', 'O'), ('swordplay', 'O'), ('and', 'I-MOV'), ('gravity-defying', 'O'), ('wirework', 'O'), ('of', 'I-MOV'), ('wuxia', 'O'), ('films', 'O'), (',', 'O'), ('and', 'I-MOV'), ('many', 'O'), ('stars', 'O'), ('returned', 'O'), ('to', 'I-MOV'), ('China', 'O'), ('to', 'I-MOV'), ('capitalised', 'O'), ('on', 'I-MOV'), ('the', 'I-MOV'), ('trend', 'O'), ('.', 'O'), ('Jet', 'O'), ('Li', 'O'), ('’', 'O'), ('s', 'O'), ('Hero', 'B-MOV'), ('(', 'O'), ('2002', 'O'), (')', 'O'), ('and', 'I-MOV'), ('Fearless', 'O'), ('(', 'O'), ('2006', 'O'), (')', 'O'), (',', 'O'), ('as', 'I-MOV'), ('well', 'O'), ('as', 'I-MOV'), ('House', 'O'), ('of', 'I-MOV'), ('Flying', 'O'), ('Daggers', 'O'), ('(', 'O'), ('2004', 'O'), (')', 'O'), ('and', 'I-MOV'), ('the', 'I-MOV'), ('first', 'O'), ('film', 'O'), ('to', 'I-MOV'), ('feature', 'O'), ('both', 'O'), ('Jackie', 'O'), ('Chan', 'O'), ('and', 'I-MOV'), ('Jet', 'O'), ('Li', 'O'), (',', 'O'), ('Forbidden', 'O'), ('Kingdom', 'I-MOV'), ('(', 'O'), ('2008', 'O'), (')', 'O'), (',', 'O'), ('all', 'O'), ('helped', 'O'), ('to', 'I-MOV'), ('redefine', 'O'), ('the', 'I-MOV'), ('martial', 'O'), ('arts', 'O'), ('film', 'O'), (':', 'O'), ('bringing', 'O'), ('star', 'O'), ('power', 'O'), ('and', 'I-MOV'), ('global', 'O'), ('audiences', 'O'), ('to', 'I-MOV'), ('an', 'O'), ('industry', 'O'), ('that', 'O'), ('had', 'O'), (',', 'O'), ('until', 'O'), ('then', 'O'), (',', 'O'), ('largely', 'O'), ('received', 'O'), ('only', 'O'), ('local', 'O'), ('attention', 'O'), ('.', 'O'), ('These', 'O'), ('Chinese-made', 'O'), ('films', 'O'), ('focused', 'O'), ('on', 'I-MOV'), ('producing', 'O'), ('elegant', 'O'), ('wuxia', 'O'), ('action', 'O'), ('dramas', 'O'), ('.', 'O'), ('In', 'B-MOV'), ('Hong', 'O'), ('Kong', 'I-MOV'), (',', 'O'), ('kung', 'O'), ('fu', 'O'), ('was', 'O'), ('still', 'O'), ('going', 'O'), ('strong', 'O'), (',', 'O'), ('largely', 'O'), ('thanks', 'O'), ('to', 'I-MOV'), ('Stephen', 'O'), ('Chow', 'O'), ('’', 'O'), ('s', 'O'), ('hugely', 'O'), ('popular', 'O'), ('comedies', 'O'), ('Shaolin', 'O'), ('Soccer', 'O'), ('(', 'O'), ('2001', 'O'), (')', 'O'), ('and', 'I-MOV'), ('Kung', 'B-MOV'), ('Fu', 'I-MOV'), ('Hustle', 'I-MOV'), ('(', 'O'), ('2004', 'O'), (')', 'O'), (',', 'O'), ('and', 'I-MOV'), ('Donnie', 'B-MOV'), ('Yen', 'O'), ('’', 'O'), ('s', 'O'), ('Ip', 'B-MOV'), ('Man', 'I-MOV'), ('(', 'O'), ('2008', 'O'), (')', 'O'), ('.', 'O'), ('Shang-Chi', 'O'), (':', 'O'), ('the', 'I-MOV'), ('first', 'O'), ('Asian', 'O'), ('superhero', 'O'), ('In', 'B-MOV'), ('many', 'O'), ('ways', 'O'), (',', 'O'), ('the', 'I-MOV'), ('character', 'O'), ('of', 'I-MOV'), ('Shang-Chi', 'O'), ('may', 'O'), ('be', 'O'), ('seen', 'O'), ('as', 'I-MOV'), ('the', 'I-MOV'), ('cultural', 'O'), ('successor', 'O'), ('to', 'I-MOV'), ('Bruce', 'O'), ('Lee', 'O'), ('.', 'O'), ('Created', 'O'), ('during', 'O'), ('the', 'I-MOV'), ('height', 'O'), ('of', 'I-MOV'), ('the', 'I-MOV'), ('global', 'O'), ('obsession', 'O'), ('with', 'I-MOV'), ('Lee', 'O'), ('’', 'O'), ('s', 'O'), ('films', 'O'), (',', 'O'), ('the', 'I-MOV'), ('character', 'O'), ('of', 'I-MOV'), ('Shang-Chi', 'O'), ('first', 'O'), ('appeared', 'O'), ('in', 'I-MOV'), ('Marvel', 'O'), ('comics', 'O'), ('in', 'I-MOV'), ('December', 'O'), ('1973', 'O'), ('–', 'O'), ('just', 'O'), ('months', 'O'), ('after', 'O'), ('the', 'I-MOV'), ('death', 'O'), ('of', 'I-MOV'), ('the', 'I-MOV'), ('legendary', 'O'), ('actor', 'O'), ('.', 'O'), ('Marvel', 'O'), ('’', 'O'), ('s', 'O'), ('“', 'O'), ('other', 'O'), ('kung', 'O'), ('fu', 'O'), ('hero', 'O'), ('”', 'O'), (',', 'O'), ('Iron', 'I-MOV'), ('Fist', 'O'), ('from', 'I-MOV'), ('the', 'I-MOV'), ('2017', 'O'), ('Netflix', 'O'), ('series', 'O'), ('of', 'I-MOV'), ('the', 'I-MOV'), ('same', 'O'), ('name', 'O'), (',', 'O'), ('was', 'O'), ('controversial', 'O'), ('.', 'O'), ('The', 'B-MOV'), ('star', 'O'), (',', 'O'), ('Finn', 'O'), ('Jones', 'I-MOV'), (',', 'O'), ('lacked', 'O'), ('martial', 'O'), ('arts', 'O'), ('experience', 'O'), (',', 'O'), ('and', 'I-MOV'), ('the', 'I-MOV'), ('show', 'O'), ('was', 'O'), ('criticised', 'O'), ('for', 'I-MOV'), ('its', 'O'), ('“', 'O'), ('white', 'O'), ('saviour', 'O'), ('”', 'O'), ('narrative', 'O'), ('.', 'O'), ('In', 'B-MOV'), ('light', 'O'), ('of', 'I-MOV'), ('this', 'O'), (',', 'O'), ('the', 'I-MOV'), ('producers', 'O'), ('of', 'I-MOV'), ('Shang-Chi', 'O'), ('were', 'O'), ('keen', 'O'), ('to', 'I-MOV'), ('bring', 'O'), ('together', 'O'), ('a', 'I-MOV'), ('predominantly', 'O'), ('Asian', 'O'), ('and', 'I-MOV'), ('Asian-American', 'O'), ('cast', 'O'), ('and', 'I-MOV'), ('crew', 'O'), ('who', 'O'), ('could', 'O'), ('do', 'O'), ('justice', 'O'), ('to', 'I-MOV'), ('the', 'I-MOV'), ('first', 'O'), ('Asian', 'O'), ('superhero', 'O'), ('to', 'I-MOV'), ('headline', 'O'), ('a', 'I-MOV'), ('Marvel', 'O'), ('feature', 'O'), ('film', 'O'), ('.', 'O'), ('This', 'B-MOV'), ('has', 'O'), ('paid', 'O'), ('off', 'O'), (':', 'O'), ('Shang-Chi', 'O'), ('is', 'O'), ('being', 'O'), ('praised', 'O'), ('as', 'I-MOV'), ('both', 'O'), ('a', 'I-MOV'), ('classic', 'O'), ('Marvel', 'O'), ('superhero', 'O'), ('film', 'O'), (',', 'O'), ('and', 'I-MOV'), ('an', 'O'), ('exceptional', 'O'), ('kung', 'O'), ('fu', 'O'), ('film', 'O'), ('in', 'I-MOV'), ('its', 'O'), ('own', 'O'), ('right', 'O'), ('.', 'O'), ('Under', 'O'), ('fight', 'O'), ('director', 'O'), ('Andy', 'O'), ('Cheng', 'O'), ('and', 'I-MOV'), ('stunt', 'O'), ('coordinator', 'O'), ('Brad', 'O'), ('Allan', 'O'), (',', 'O'), ('the', 'I-MOV'), ('film', 'O'), ('draws', 'O'), ('upon', 'O'), ('a', 'I-MOV'), ('range', 'O'), ('of', 'I-MOV'), ('different', 'O'), ('styles', 'O'), (',', 'O'), ('including', 'O'), ('wing', 'O'), ('chun', 'O'), (',', 'O'), ('Shaolin', 'O'), ('kung', 'O'), ('fu', 'O'), (',', 'O'), ('bajiquan', 'O'), ('and', 'I-MOV'), ('hung', 'O'), ('ga', 'O'), ('stances', 'O'), (',', 'O'), ('and', 'I-MOV'), ('the', 'I-MOV'), ('iron', 'O'), ('rings', 'O'), ('from', 'I-MOV'), ('which', 'O'), ('the', 'I-MOV'), ('film', 'O'), ('gets', 'O'), ('its', 'O'), ('title', 'O'), ('.', 'O'), ('Hollywood', 'I-MOV'), ('has', 'O'), ('come', 'O'), ('a', 'I-MOV'), ('long', 'O'), ('way', 'O'), ('from', 'I-MOV'), ('declaring', 'O'), ('Lee', 'O'), ('“', 'O'), ('too', 'O'), ('authentic', 'O'), ('”', 'O'), ('to', 'I-MOV'), ('take', 'O'), ('the', 'I-MOV'), ('lead', 'O'), ('role', 'O'), ('in', 'I-MOV'), ('the', 'I-MOV'), ('original', 'O'), ('1970s', 'O'), ('Kung', 'B-MOV'), ('Fu', 'I-MOV'), ('television', 'O'), ('series', 'O'), ('.', 'O'), ('Shang-Chi', 'O'), ('is', 'O'), ('likely', 'O'), ('to', 'I-MOV'), ('inspire', 'O'), ('a', 'I-MOV'), ('whole', 'O'), ('new', 'O'), ('generation', 'O'), ('of', 'I-MOV'), ('kung', 'O'), ('fu', 'O'), ('cinema', 'O'), ('fans', 'O'), ('.', 'O')]\n"
          ]
        }
      ]
    },
    {
      "cell_type": "markdown",
      "source": [
        "we can infer that Tokens not belonging to any movie title are labeled as \"O\".\n",
        "The returned BIO list indicates that the function performs as expected and can serve as a useful component in developing a NER system tailored to movie titles."
      ],
      "metadata": {
        "id": "eV2dU7zakJRH"
      }
    }
  ]
}